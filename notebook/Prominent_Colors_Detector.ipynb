{
  "nbformat": 4,
  "nbformat_minor": 0,
  "metadata": {
    "colab": {
      "name": "Prominent-Colors-Detector",
      "provenance": [],
      "collapsed_sections": [],
      "mount_file_id": "1ggr3wvBz9KVxdLhz7mCTKlpfjJmTFC6N",
      "authorship_tag": "ABX9TyOBfhuSakiR4TxHY83ERZ07",
      "include_colab_link": true
    },
    "kernelspec": {
      "name": "python_defaultSpec_1594973044031",
      "display_name": "Python 3.7.8 64-bit"
    }
  },
  "cells": [
    {
      "cell_type": "markdown",
      "metadata": {
        "id": "view-in-github",
        "colab_type": "text"
      },
      "source": [
        "<a href=\"https://colab.research.google.com/github/divy9881/prominent-colors-detector/blob/master/notebook/Prominent_Colors_Detector.ipynb\" target=\"_parent\"><img src=\"https://colab.research.google.com/assets/colab-badge.svg\" alt=\"Open In Colab\"/></a>"
      ]
    },
    {
      "cell_type": "code",
      "metadata": {
        "id": "tUqiPO0RBiCF",
        "colab_type": "code",
        "colab": {}
      },
      "source": [
        "# Define hyper-parameters\n",
        "root = \"./drive/My Drive/Colab Notebooks/\""
      ],
      "execution_count": 2,
      "outputs": []
    },
    {
      "cell_type": "code",
      "metadata": {
        "id": "czmNdMOECFa4",
        "colab_type": "code",
        "colab": {}
      },
      "source": [
        "# Core-engine functions\n",
        "from tensorflow import io, image\n",
        "from tensorflow.keras import backend\n",
        "from sklearn.cluster import KMeans, AgglomerativeClustering\n",
        "import matplotlib.pyplot as plt\n",
        "\n",
        "class ImageProminentColor:\n",
        "  def __init__(self, filepath: str):\n",
        "    image_string = io.read_file(filepath)\n",
        "    self.image_object = image.decode_image(image_string, channels=3)\n",
        "    self.flattened_image_object = self.flatten_image()\n",
        "    self.total_pixels = self.flattened_image_object.shape[0]\n",
        "\n",
        "  def flatten_image(self):\n",
        "    height = self.image_object.shape[0]\n",
        "    width = self.image_object.shape[1]\n",
        "    channels = self.image_object.shape[2]\n",
        "    return backend.reshape(self.image_object, shape = (height*width, channels))\n",
        "\n",
        "  def cluster_image_colors(self, clusterer, number_of_dominent_colors = 5):\n",
        "    clusterer = clusterer(n_clusters = number_of_dominent_colors)\n",
        "    self.cluster = clusterer.fit(self.flattened_image_object)\n",
        "    return self.cluster.cluster_centers_, self.cluster.labels_\n",
        "\n",
        "  def get_prominent_colors(self, clusterer, number_of_dominent_colors = 5):\n",
        "    centroids, pixel_labels = self.cluster_image_colors(clusterer, number_of_dominent_colors)\n",
        "    colors = []\n",
        "    for i in set(pixel_labels):\n",
        "      count = 0\n",
        "      for pixel_label in pixel_labels:\n",
        "        if pixel_label == i:\n",
        "          count += 1\n",
        "      colors.append([centroids[i], count ])\n",
        "      \n",
        "    colors.sort(key = lambda a : -a[1])\n",
        "    for i in range(len(colors)):\n",
        "      colors[i][1] = \"{0} of {1}\".format(str(colors[i][1]), str(self.total_pixels))\n",
        "    return colors\n",
        "\n",
        "  def get_image_plot(self, filepath):\n",
        "    fig = plt.figure()\n",
        "    ax = fig.add_subplot(111, projection='3d')\n",
        "\n",
        "    r_vals = self.flattened_image_object[:, 0:1]\n",
        "    g_vals = self.flattened_image_object[:, 1:2]\n",
        "    b_vals = self.flattened_image_object[:, 2:3]\n",
        "  \n",
        "    ax.scatter(r_vals, g_vals, b_vals, c=\"red\")\n",
        "\n",
        "    ax.set_xlabel('Red (R)')\n",
        "    ax.set_ylabel('Green (G)')\n",
        "    ax.set_zlabel('Blue (B)')\n",
        "\n",
        "    plt.savefig(filepath)\n",
        "    plt.show()\n",
        "\n",
        "  def get_color_plot(self, filepath):\n",
        "    fig = plt.figure()\n",
        "    ax = fig.add_subplot(111, projection='3d')\n",
        "\n",
        "    centroid_r_vals = self.cluster.cluster_centers_[:, 0:1]\n",
        "    centroid_g_vals = self.cluster.cluster_centers_[:, 1:2]\n",
        "    centroid_b_vals = self.cluster.cluster_centers_[:, 2:3]\n",
        "\n",
        "    marker_size=1000\n",
        "    ax.scatter(centroid_r_vals, centroid_g_vals, centroid_b_vals, c=\"green\", s = marker_size)\n",
        "\n",
        "    ax.set_xlabel('Red (R)')\n",
        "    ax.set_ylabel('Green (G)')\n",
        "    ax.set_zlabel('Blue (B)')\n",
        "\n",
        "    plt.savefig(filepath)\n",
        "    plt.show()"
      ],
      "execution_count": 3,
      "outputs": []
    },
    {
      "cell_type": "code",
      "metadata": {
        "id": "Dvkyz2q2QStm",
        "colab_type": "code",
        "colab": {
          "base_uri": "https://localhost:8080/",
          "height": 516
        },
        "outputId": "91b398aa-ca79-44ec-d317-df0ca354269d"
      },
      "source": [
        "from tensorflow.keras.utils import get_file\n",
        "\n",
        "file = get_file(\"pngtree-colorful-bright-smoke-texture-background-image_312909.jpg\", \"https://png.pngtree.com/thumb_back/fh260/background/20190903/pngtree-colorful-bright-smoke-texture-background-image_312909.jpg\")\n",
        "\n",
        "image_color = ImageProminentColor(root+\"nodejs.png\")\n",
        "print(image_color.get_prominent_colors(KMeans, 3))\n",
        "\n",
        "image_color.get_image_plot(root+\"nodejs_image.png\")\n",
        "image_color.get_color_plot(root+\"nodejs_color.png\")"
      ],
      "execution_count": 8,
      "outputs": [
        {
          "output_type": "error",
          "ename": "NotFoundError",
          "evalue": "NewRandomAccessFile failed to Create/Open: ./drive/My Drive/Colab Notebooks/nodejs.png : The system cannot find the path specified.\r\n; No such process [Op:ReadFile]",
          "traceback": [
            "\u001b[1;31m---------------------------------------------------------------------------\u001b[0m",
            "\u001b[1;31m_FallbackException\u001b[0m                        Traceback (most recent call last)",
            "\u001b[1;32m~\\AppData\\Roaming\\Python\\Python37\\site-packages\\tensorflow\\python\\ops\\gen_io_ops.py\u001b[0m in \u001b[0;36mread_file\u001b[1;34m(filename, name)\u001b[0m\n\u001b[0;32m    548\u001b[0m         \u001b[0m_ctx\u001b[0m\u001b[1;33m.\u001b[0m\u001b[0m_context_handle\u001b[0m\u001b[1;33m,\u001b[0m \u001b[0mtld\u001b[0m\u001b[1;33m.\u001b[0m\u001b[0mdevice_name\u001b[0m\u001b[1;33m,\u001b[0m \u001b[1;34m\"ReadFile\"\u001b[0m\u001b[1;33m,\u001b[0m \u001b[0mname\u001b[0m\u001b[1;33m,\u001b[0m\u001b[1;33m\u001b[0m\u001b[1;33m\u001b[0m\u001b[0m\n\u001b[1;32m--> 549\u001b[1;33m         tld.op_callbacks, filename)\n\u001b[0m\u001b[0;32m    550\u001b[0m       \u001b[1;32mreturn\u001b[0m \u001b[0m_result\u001b[0m\u001b[1;33m\u001b[0m\u001b[1;33m\u001b[0m\u001b[0m\n",
            "\u001b[1;31m_FallbackException\u001b[0m: This function does not handle the case of the path where all inputs are not already EagerTensors.",
            "\nDuring handling of the above exception, another exception occurred:\n",
            "\u001b[1;31mNotFoundError\u001b[0m                             Traceback (most recent call last)",
            "\u001b[1;32m<ipython-input-8-e092de4fb57a>\u001b[0m in \u001b[0;36m<module>\u001b[1;34m\u001b[0m\n\u001b[0;32m      3\u001b[0m \u001b[0mfile\u001b[0m \u001b[1;33m=\u001b[0m \u001b[0mget_file\u001b[0m\u001b[1;33m(\u001b[0m\u001b[1;34m\"pngtree-colorful-bright-smoke-texture-background-image_312909.jpg\"\u001b[0m\u001b[1;33m,\u001b[0m \u001b[1;34m\"https://png.pngtree.com/thumb_back/fh260/background/20190903/pngtree-colorful-bright-smoke-texture-background-image_312909.jpg\"\u001b[0m\u001b[1;33m)\u001b[0m\u001b[1;33m\u001b[0m\u001b[1;33m\u001b[0m\u001b[0m\n\u001b[0;32m      4\u001b[0m \u001b[1;33m\u001b[0m\u001b[0m\n\u001b[1;32m----> 5\u001b[1;33m \u001b[0mimage_color\u001b[0m \u001b[1;33m=\u001b[0m \u001b[0mImageProminentColor\u001b[0m\u001b[1;33m(\u001b[0m\u001b[0mroot\u001b[0m\u001b[1;33m+\u001b[0m\u001b[1;34m\"nodejs.png\"\u001b[0m\u001b[1;33m)\u001b[0m\u001b[1;33m\u001b[0m\u001b[1;33m\u001b[0m\u001b[0m\n\u001b[0m\u001b[0;32m      6\u001b[0m \u001b[0mprint\u001b[0m\u001b[1;33m(\u001b[0m\u001b[0mimage_color\u001b[0m\u001b[1;33m.\u001b[0m\u001b[0mget_prominent_colors\u001b[0m\u001b[1;33m(\u001b[0m\u001b[0mKMeans\u001b[0m\u001b[1;33m,\u001b[0m \u001b[1;36m3\u001b[0m\u001b[1;33m)\u001b[0m\u001b[1;33m)\u001b[0m\u001b[1;33m\u001b[0m\u001b[1;33m\u001b[0m\u001b[0m\n\u001b[0;32m      7\u001b[0m \u001b[1;33m\u001b[0m\u001b[0m\n",
            "\u001b[1;32m<ipython-input-3-8dd913430b31>\u001b[0m in \u001b[0;36m__init__\u001b[1;34m(self, filepath)\u001b[0m\n\u001b[0;32m      7\u001b[0m \u001b[1;32mclass\u001b[0m \u001b[0mImageProminentColor\u001b[0m\u001b[1;33m:\u001b[0m\u001b[1;33m\u001b[0m\u001b[1;33m\u001b[0m\u001b[0m\n\u001b[0;32m      8\u001b[0m   \u001b[1;32mdef\u001b[0m \u001b[0m__init__\u001b[0m\u001b[1;33m(\u001b[0m\u001b[0mself\u001b[0m\u001b[1;33m,\u001b[0m \u001b[0mfilepath\u001b[0m\u001b[1;33m:\u001b[0m \u001b[0mstr\u001b[0m\u001b[1;33m)\u001b[0m\u001b[1;33m:\u001b[0m\u001b[1;33m\u001b[0m\u001b[1;33m\u001b[0m\u001b[0m\n\u001b[1;32m----> 9\u001b[1;33m     \u001b[0mimage_string\u001b[0m \u001b[1;33m=\u001b[0m \u001b[0mio\u001b[0m\u001b[1;33m.\u001b[0m\u001b[0mread_file\u001b[0m\u001b[1;33m(\u001b[0m\u001b[0mfilepath\u001b[0m\u001b[1;33m)\u001b[0m\u001b[1;33m\u001b[0m\u001b[1;33m\u001b[0m\u001b[0m\n\u001b[0m\u001b[0;32m     10\u001b[0m     \u001b[0mself\u001b[0m\u001b[1;33m.\u001b[0m\u001b[0mimage_object\u001b[0m \u001b[1;33m=\u001b[0m \u001b[0mimage\u001b[0m\u001b[1;33m.\u001b[0m\u001b[0mdecode_image\u001b[0m\u001b[1;33m(\u001b[0m\u001b[0mimage_string\u001b[0m\u001b[1;33m,\u001b[0m \u001b[0mchannels\u001b[0m\u001b[1;33m=\u001b[0m\u001b[1;36m3\u001b[0m\u001b[1;33m)\u001b[0m\u001b[1;33m\u001b[0m\u001b[1;33m\u001b[0m\u001b[0m\n\u001b[0;32m     11\u001b[0m     \u001b[0mself\u001b[0m\u001b[1;33m.\u001b[0m\u001b[0mflattened_image_object\u001b[0m \u001b[1;33m=\u001b[0m \u001b[0mself\u001b[0m\u001b[1;33m.\u001b[0m\u001b[0mflatten_image\u001b[0m\u001b[1;33m(\u001b[0m\u001b[1;33m)\u001b[0m\u001b[1;33m\u001b[0m\u001b[1;33m\u001b[0m\u001b[0m\n",
            "\u001b[1;32m~\\AppData\\Roaming\\Python\\Python37\\site-packages\\tensorflow\\python\\ops\\gen_io_ops.py\u001b[0m in \u001b[0;36mread_file\u001b[1;34m(filename, name)\u001b[0m\n\u001b[0;32m    552\u001b[0m       \u001b[1;32mtry\u001b[0m\u001b[1;33m:\u001b[0m\u001b[1;33m\u001b[0m\u001b[1;33m\u001b[0m\u001b[0m\n\u001b[0;32m    553\u001b[0m         return read_file_eager_fallback(\n\u001b[1;32m--> 554\u001b[1;33m             filename, name=name, ctx=_ctx)\n\u001b[0m\u001b[0;32m    555\u001b[0m       \u001b[1;32mexcept\u001b[0m \u001b[0m_core\u001b[0m\u001b[1;33m.\u001b[0m\u001b[0m_SymbolicException\u001b[0m\u001b[1;33m:\u001b[0m\u001b[1;33m\u001b[0m\u001b[1;33m\u001b[0m\u001b[0m\n\u001b[0;32m    556\u001b[0m         \u001b[1;32mpass\u001b[0m  \u001b[1;31m# Add nodes to the TensorFlow graph.\u001b[0m\u001b[1;33m\u001b[0m\u001b[1;33m\u001b[0m\u001b[0m\n",
            "\u001b[1;32m~\\AppData\\Roaming\\Python\\Python37\\site-packages\\tensorflow\\python\\ops\\gen_io_ops.py\u001b[0m in \u001b[0;36mread_file_eager_fallback\u001b[1;34m(filename, name, ctx)\u001b[0m\n\u001b[0;32m    590\u001b[0m   \u001b[0m_attrs\u001b[0m \u001b[1;33m=\u001b[0m \u001b[1;32mNone\u001b[0m\u001b[1;33m\u001b[0m\u001b[1;33m\u001b[0m\u001b[0m\n\u001b[0;32m    591\u001b[0m   _result = _execute.execute(b\"ReadFile\", 1, inputs=_inputs_flat,\n\u001b[1;32m--> 592\u001b[1;33m                              attrs=_attrs, ctx=ctx, name=name)\n\u001b[0m\u001b[0;32m    593\u001b[0m   \u001b[1;32mif\u001b[0m \u001b[0m_execute\u001b[0m\u001b[1;33m.\u001b[0m\u001b[0mmust_record_gradient\u001b[0m\u001b[1;33m(\u001b[0m\u001b[1;33m)\u001b[0m\u001b[1;33m:\u001b[0m\u001b[1;33m\u001b[0m\u001b[1;33m\u001b[0m\u001b[0m\n\u001b[0;32m    594\u001b[0m     _execute.record_gradient(\n",
            "\u001b[1;32m~\\AppData\\Roaming\\Python\\Python37\\site-packages\\tensorflow\\python\\eager\\execute.py\u001b[0m in \u001b[0;36mquick_execute\u001b[1;34m(op_name, num_outputs, inputs, attrs, ctx, name)\u001b[0m\n\u001b[0;32m     58\u001b[0m     \u001b[0mctx\u001b[0m\u001b[1;33m.\u001b[0m\u001b[0mensure_initialized\u001b[0m\u001b[1;33m(\u001b[0m\u001b[1;33m)\u001b[0m\u001b[1;33m\u001b[0m\u001b[1;33m\u001b[0m\u001b[0m\n\u001b[0;32m     59\u001b[0m     tensors = pywrap_tfe.TFE_Py_Execute(ctx._handle, device_name, op_name,\n\u001b[1;32m---> 60\u001b[1;33m                                         inputs, attrs, num_outputs)\n\u001b[0m\u001b[0;32m     61\u001b[0m   \u001b[1;32mexcept\u001b[0m \u001b[0mcore\u001b[0m\u001b[1;33m.\u001b[0m\u001b[0m_NotOkStatusException\u001b[0m \u001b[1;32mas\u001b[0m \u001b[0me\u001b[0m\u001b[1;33m:\u001b[0m\u001b[1;33m\u001b[0m\u001b[1;33m\u001b[0m\u001b[0m\n\u001b[0;32m     62\u001b[0m     \u001b[1;32mif\u001b[0m \u001b[0mname\u001b[0m \u001b[1;32mis\u001b[0m \u001b[1;32mnot\u001b[0m \u001b[1;32mNone\u001b[0m\u001b[1;33m:\u001b[0m\u001b[1;33m\u001b[0m\u001b[1;33m\u001b[0m\u001b[0m\n",
            "\u001b[1;31mNotFoundError\u001b[0m: NewRandomAccessFile failed to Create/Open: ./drive/My Drive/Colab Notebooks/nodejs.png : The system cannot find the path specified.\r\n; No such process [Op:ReadFile]"
          ]
        }
      ]
    },
    {
      "cell_type": "code",
      "execution_count": null,
      "metadata": {},
      "outputs": [],
      "source": [
        "\n",
        "\n"
      ]
    }
  ]
}